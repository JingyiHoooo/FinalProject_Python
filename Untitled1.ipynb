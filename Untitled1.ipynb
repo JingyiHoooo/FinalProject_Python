{
 "cells": [
  {
   "cell_type": "code",
   "execution_count": 2,
   "metadata": {},
   "outputs": [],
   "source": [
    "#!/bin/python\n",
    "\n",
    "import dropbox\n",
    "import datetime\n",
    "import schedule\n",
    "import numpy\n",
    "import string\n",
    "import requests\n",
    "\n",
    "from threading import Timer\n",
    "import time\n",
    "import sys\n",
    "\n",
    "import csv\n",
    "\n",
    "import math\n",
    "import random\n",
    "import matplotlib\n",
    "import matplotlib.pyplot as plt\n",
    "from matplotlib import animation\n",
    "import os\n",
    "\n",
    "import matplotlib.dates as mdate\n",
    "\n",
    "from matplotlib.ticker import MultipleLocator\n",
    "from matplotlib.ticker import FormatStrFormatter\n",
    "\n",
    "import pytz\n"
   ]
  },
  {
   "cell_type": "code",
   "execution_count": null,
   "metadata": {},
   "outputs": [],
   "source": [
    "\n",
    "    "
   ]
  },
  {
   "cell_type": "code",
   "execution_count": 3,
   "metadata": {},
   "outputs": [
    {
     "data": {
      "image/png": "[encoded data removed]",
      "text/plain": [
       "<Figure size 432x288 with 1 Axes>"
      ]
     },
     "metadata": {
      "needs_background": "light"
     },
     "output_type": "display_data"
    },
    {
     "name": "stdout",
     "output_type": "stream",
     "text": [
      "The average IBI value(s): 0.8793016225000007 \n",
      "The heart beat rate(bpm): 68 \n",
      "\n"
     ]
    },
    {
     "ename": "KeyboardInterrupt",
     "evalue": "",
     "output_type": "error",
     "traceback": [
      "\u001b[1;31m---------------------------------------------------------------------------\u001b[0m",
      "\u001b[1;31mKeyboardInterrupt\u001b[0m                         Traceback (most recent call last)",
      "\u001b[1;32m<ipython-input-3-2c40428d5d77>\u001b[0m in \u001b[0;36m<module>\u001b[1;34m\u001b[0m\n\u001b[0;32m     91\u001b[0m \u001b[1;32mif\u001b[0m \u001b[0m__name__\u001b[0m \u001b[1;33m==\u001b[0m \u001b[1;34m\"__main__\"\u001b[0m\u001b[1;33m:\u001b[0m\u001b[1;33m\u001b[0m\u001b[1;33m\u001b[0m\u001b[0m\n\u001b[0;32m     92\u001b[0m     \u001b[0mschedule\u001b[0m\u001b[1;33m.\u001b[0m\u001b[0mclear\u001b[0m\u001b[1;33m(\u001b[0m\u001b[1;33m)\u001b[0m\u001b[1;33m\u001b[0m\u001b[1;33m\u001b[0m\u001b[0m\n\u001b[1;32m---> 93\u001b[1;33m     \u001b[0mHR_Getting\u001b[0m\u001b[1;33m.\u001b[0m\u001b[0mbodyE4\u001b[0m\u001b[1;33m(\u001b[0m\u001b[1;33m)\u001b[0m\u001b[1;33m\u001b[0m\u001b[1;33m\u001b[0m\u001b[0m\n\u001b[0m\u001b[0;32m     94\u001b[0m     \u001b[0mprint\u001b[0m \u001b[1;33m(\u001b[0m\u001b[1;34m'here'\u001b[0m\u001b[1;33m)\u001b[0m\u001b[1;33m\u001b[0m\u001b[1;33m\u001b[0m\u001b[0m\n",
      "\u001b[1;32m<ipython-input-3-2c40428d5d77>\u001b[0m in \u001b[0;36mbodyE4\u001b[1;34m()\u001b[0m\n\u001b[0;32m     73\u001b[0m         \u001b[0mschedule\u001b[0m\u001b[1;33m.\u001b[0m\u001b[0mevery\u001b[0m\u001b[1;33m(\u001b[0m\u001b[1;36m1\u001b[0m\u001b[1;33m)\u001b[0m\u001b[1;33m.\u001b[0m\u001b[0mminutes\u001b[0m\u001b[1;33m.\u001b[0m\u001b[0mdo\u001b[0m\u001b[1;33m(\u001b[0m\u001b[0mHR_Getting\u001b[0m\u001b[1;33m.\u001b[0m\u001b[0mE4\u001b[0m\u001b[1;33m,\u001b[0m \u001b[0mx\u001b[0m\u001b[1;33m,\u001b[0m \u001b[0my\u001b[0m\u001b[1;33m)\u001b[0m\u001b[1;33m\u001b[0m\u001b[1;33m\u001b[0m\u001b[0m\n\u001b[0;32m     74\u001b[0m         \u001b[1;32mwhile\u001b[0m \u001b[1;32mTrue\u001b[0m\u001b[1;33m:\u001b[0m\u001b[1;33m\u001b[0m\u001b[1;33m\u001b[0m\u001b[0m\n\u001b[1;32m---> 75\u001b[1;33m             \u001b[0mschedule\u001b[0m\u001b[1;33m.\u001b[0m\u001b[0mrun_pending\u001b[0m\u001b[1;33m(\u001b[0m\u001b[1;33m)\u001b[0m\u001b[1;33m\u001b[0m\u001b[1;33m\u001b[0m\u001b[0m\n\u001b[0m\u001b[0;32m     76\u001b[0m \u001b[1;33m\u001b[0m\u001b[0m\n\u001b[0;32m     77\u001b[0m     \u001b[1;32mdef\u001b[0m \u001b[0mdraw\u001b[0m\u001b[1;33m(\u001b[0m\u001b[0mx\u001b[0m\u001b[1;33m,\u001b[0m \u001b[0my\u001b[0m\u001b[1;33m)\u001b[0m\u001b[1;33m:\u001b[0m\u001b[1;33m\u001b[0m\u001b[1;33m\u001b[0m\u001b[0m\n",
      "\u001b[1;32m~\\Anaconda3\\lib\\site-packages\\schedule\\__init__.py\u001b[0m in \u001b[0;36mrun_pending\u001b[1;34m()\u001b[0m\n\u001b[0;32m    561\u001b[0m     \u001b[1;33m:\u001b[0m\u001b[0mdata\u001b[0m\u001b[1;33m:\u001b[0m\u001b[0;31m`\u001b[0m\u001b[0mdefault\u001b[0m \u001b[0mscheduler\u001b[0m \u001b[0minstance\u001b[0m \u001b[1;33m<\u001b[0m\u001b[0mdefault_scheduler\u001b[0m\u001b[1;33m>\u001b[0m\u001b[0;31m`\u001b[0m\u001b[1;33m.\u001b[0m\u001b[1;33m\u001b[0m\u001b[1;33m\u001b[0m\u001b[0m\n\u001b[0;32m    562\u001b[0m     \"\"\"\n\u001b[1;32m--> 563\u001b[1;33m     \u001b[0mdefault_scheduler\u001b[0m\u001b[1;33m.\u001b[0m\u001b[0mrun_pending\u001b[0m\u001b[1;33m(\u001b[0m\u001b[1;33m)\u001b[0m\u001b[1;33m\u001b[0m\u001b[1;33m\u001b[0m\u001b[0m\n\u001b[0m\u001b[0;32m    564\u001b[0m \u001b[1;33m\u001b[0m\u001b[0m\n\u001b[0;32m    565\u001b[0m \u001b[1;33m\u001b[0m\u001b[0m\n",
      "\u001b[1;32m~\\Anaconda3\\lib\\site-packages\\schedule\\__init__.py\u001b[0m in \u001b[0;36mrun_pending\u001b[1;34m(self)\u001b[0m\n\u001b[0;32m     90\u001b[0m         \u001b[0mbetween\u001b[0m \u001b[0mbut\u001b[0m \u001b[0monly\u001b[0m \u001b[0monce\u001b[0m\u001b[1;33m.\u001b[0m\u001b[1;33m\u001b[0m\u001b[1;33m\u001b[0m\u001b[0m\n\u001b[0;32m     91\u001b[0m         \"\"\"\n\u001b[1;32m---> 92\u001b[1;33m         \u001b[0mrunnable_jobs\u001b[0m \u001b[1;33m=\u001b[0m \u001b[1;33m(\u001b[0m\u001b[0mjob\u001b[0m \u001b[1;32mfor\u001b[0m \u001b[0mjob\u001b[0m \u001b[1;32min\u001b[0m \u001b[0mself\u001b[0m\u001b[1;33m.\u001b[0m\u001b[0mjobs\u001b[0m \u001b[1;32mif\u001b[0m \u001b[0mjob\u001b[0m\u001b[1;33m.\u001b[0m\u001b[0mshould_run\u001b[0m\u001b[1;33m)\u001b[0m\u001b[1;33m\u001b[0m\u001b[1;33m\u001b[0m\u001b[0m\n\u001b[0m\u001b[0;32m     93\u001b[0m         \u001b[1;32mfor\u001b[0m \u001b[0mjob\u001b[0m \u001b[1;32min\u001b[0m \u001b[0msorted\u001b[0m\u001b[1;33m(\u001b[0m\u001b[0mrunnable_jobs\u001b[0m\u001b[1;33m)\u001b[0m\u001b[1;33m:\u001b[0m\u001b[1;33m\u001b[0m\u001b[1;33m\u001b[0m\u001b[0m\n\u001b[0;32m     94\u001b[0m             \u001b[0mself\u001b[0m\u001b[1;33m.\u001b[0m\u001b[0m_run_job\u001b[0m\u001b[1;33m(\u001b[0m\u001b[0mjob\u001b[0m\u001b[1;33m)\u001b[0m\u001b[1;33m\u001b[0m\u001b[1;33m\u001b[0m\u001b[0m\n",
      "\u001b[1;31mKeyboardInterrupt\u001b[0m: "
     ]
    }
   ],
   "source": [
    "class HR_Getting:\n",
    "    \n",
    "    def __init__():\n",
    "        dbx = dropbox.Dropbox('lY_d3DAmzgAAAAAAAAAAdn7IAKZUPyYJXhaYmllRlCFZwhYgt_m6fNafXq8DcgWK')\n",
    "        delta = datetime.timedelta(minutes=1)\n",
    "\n",
    "    def E4(x, y):\n",
    "        # Dropbox access token\n",
    "        dbx = dropbox.Dropbox('lY_d3DAmzgAAAAAAAAAAdn7IAKZUPyYJXhaYmllRlCFZwhYgt_m6fNafXq8DcgWK')\n",
    "\n",
    "        # current time\n",
    "        timestamp = datetime.datetime.now()\n",
    "        # time gap\n",
    "        delta = datetime.timedelta(minutes=1)\n",
    "        # time where the IBI file has been bulit\n",
    "        filetime = timestamp - delta\n",
    "\n",
    "        # Re-formatting: datetime->String\n",
    "        Str_filetime = filetime.strftime('%Y-%m-%d-%H-%M')\n",
    "\n",
    "        # For testing only\n",
    "        #Str_filetime = '2019-07-27-23-22'\n",
    "\n",
    "        # Set parameters for downloading the file\n",
    "        # Saving path\n",
    "        download_path = 'C:\\\\FINAL_PROJECT\\\\IBI_Files\\\\IBIData'+Str_filetime +'.txt'\n",
    "        # File location in dropbox\n",
    "        path = '/IBI/IBIData' + Str_filetime + '.txt'\n",
    "\n",
    "        # try download\n",
    "        try:\n",
    "            dbx.files_download_to_file(download_path, path, None)\n",
    "        except:\n",
    "            print('IBIData' + Str_filetime + '.txt current is not exsit')\n",
    "            pass\n",
    "        else:\n",
    "            #print(\"Successful Downloading /Apps/E4Link\" + path + \" from Dropbox, overwriting \" + download_path + \"...\")\n",
    "\n",
    "            # A file downloaded, reformat the file\n",
    "            resval = numpy.loadtxt(download_path)\n",
    "\n",
    "            with open(download_path, 'r') as f:\n",
    "                sum = 0\n",
    "                count = 0\n",
    "                lines = f.readlines()  # read the content\n",
    "                for line in lines:\n",
    "                    for value in line.split():\n",
    "                        value = value.strip(string.whitespace)\n",
    "                        sum += float(value)\n",
    "                        count += 1\n",
    "\n",
    "                aveIBI = sum / count\n",
    "                bpm = int(60 / aveIBI)\n",
    "                \n",
    "                x.append(Str_filetime)\n",
    "                y.append(bpm)\n",
    "                \n",
    "                fig = HR_Getting.draw(x, y)\n",
    "\n",
    "            # with open('bpm_data.csv', 'a', newline='') as f:\n",
    "            #     csv_write = csv.writer(f)\n",
    "            #     csv_write.writerow([Str_filetime, bpm])\n",
    "            #     f.close()\n",
    "            \n",
    "            #return x.y\n",
    "            print('The average IBI value(s):', aveIBI, '\\n' + 'The heart beat rate(bpm):', bpm, '\\n')\n",
    "\n",
    "    def bodyE4():\n",
    "        x = []\n",
    "        y = []\n",
    "        #plt.ion()\n",
    "        #plt.figure(1)\n",
    "        schedule.every(1).minutes.do(HR_Getting.E4, x, y)\n",
    "        while True:\n",
    "            schedule.run_pending()\n",
    "\n",
    "    def draw(x, y):\n",
    "        plt.clf()\n",
    "        plt.plot(x, y, '-r')\n",
    "        plt.tick_params(axis='x', rotation=90)\n",
    "        plt.title('bpm verus time')\n",
    "        plt.xlabel('time')\n",
    "        plt.ylabel('bpm')\n",
    "        plt.pause(0.01)  # pause a bit so that plots are updated\n",
    "        #plt.show\n",
    "        #if 'qt5' in matplotlib.get_backend():\n",
    "            #display.clear_output(wait=True)\n",
    "            #display.display(plt.gcf())\n",
    "\n",
    "\n",
    "if __name__ == \"__main__\":\n",
    "    schedule.clear()\n",
    "    HR_Getting.bodyE4()\n",
    "    print ('here')"
   ]
  },
  {
   "cell_type": "code",
   "execution_count": null,
   "metadata": {},
   "outputs": [],
   "source": []
  }
 ],
 "metadata": {
  "kernelspec": {
   "display_name": "Python 3",
   "language": "python",
   "name": "python3"
  },
  "language_info": {
   "codemirror_mode": {
    "name": "ipython",
    "version": 3
   },
   "file_extension": ".py",
   "mimetype": "text/x-python",
   "name": "python",
   "nbconvert_exporter": "python",
   "pygments_lexer": "ipython3",
   "version": "3.7.3"
  }
 },
 "nbformat": 4,
 "nbformat_minor": 2
}
