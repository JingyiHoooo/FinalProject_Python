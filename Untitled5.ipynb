{
 "cells": [
  {
   "cell_type": "code",
   "execution_count": 1,
   "metadata": {},
   "outputs": [
    {
     "ename": "ModuleNotFoundError",
     "evalue": "No module named 'sqlite'",
     "output_type": "error",
     "traceback": [
      "\u001b[1;31m---------------------------------------------------------------------------\u001b[0m",
      "\u001b[1;31mModuleNotFoundError\u001b[0m                       Traceback (most recent call last)",
      "\u001b[1;32m<ipython-input-1-beb55f23072e>\u001b[0m in \u001b[0;36m<module>\u001b[1;34m\u001b[0m\n\u001b[0;32m     12\u001b[0m \u001b[1;33m\u001b[0m\u001b[0m\n\u001b[0;32m     13\u001b[0m \u001b[1;32mimport\u001b[0m \u001b[0mcsv\u001b[0m\u001b[1;33m\u001b[0m\u001b[1;33m\u001b[0m\u001b[0m\n\u001b[1;32m---> 14\u001b[1;33m \u001b[1;32mimport\u001b[0m \u001b[0msqlite\u001b[0m\u001b[1;33m\u001b[0m\u001b[1;33m\u001b[0m\u001b[0m\n\u001b[0m\u001b[0;32m     15\u001b[0m \u001b[1;33m\u001b[0m\u001b[0m\n\u001b[0;32m     16\u001b[0m \u001b[1;33m\u001b[0m\u001b[0m\n",
      "\u001b[1;31mModuleNotFoundError\u001b[0m: No module named 'sqlite'"
     ]
    }
   ],
   "source": [
    "import dropbox\n",
    "import datetime\n",
    "import schedule\n",
    "import numpy as np\n",
    "import string\n",
    "import requests\n",
    "\n",
    "from threading import Timer\n",
    "import time\n",
    "import sys\n",
    "import os\n",
    "\n",
    "import csv\n",
    "import sqlite\n",
    "\n",
    "\n",
    "import math\n",
    "import random\n",
    "import matplotlib as mpl\n",
    "import matplotlib.pyplot as plt\n",
    "\n",
    "import matplotlib.dates as mdate\n",
    "\n",
    "from matplotlib.ticker import MultipleLocator\n",
    "from matplotlib.ticker import FormatStrFormatter"
   ]
  },
  {
   "cell_type": "code",
   "execution_count": 32,
   "metadata": {},
   "outputs": [
    {
     "name": "stdout",
     "output_type": "stream",
     "text": [
      "Database current is not exsit\n",
      "here\n"
     ]
    }
   ],
   "source": [
    "class EBikeData_Getting:\n",
    "    def __init__():\n",
    "        self.dbx = dropbox.Dropbox('lY_d3DAmzgAAAAAAAAAAqDrNp6wAIGXPFpihmhYwhIf8qh0Mm0kUmYLBN0aBwYJM')\n",
    "        #self.delta = datetime.timedelta(minutes = 1)\n",
    "        \n",
    "    def EBike():\n",
    "        # Dropbox access token    \n",
    "        dbx = dropbox.Dropbox('lY_d3DAmzgAAAAAAAAAAqDrNp6wAIGXPFpihmhYwhIf8qh0Mm0kUmYLBN0aBwYJM')\n",
    "\n",
    "        # Set parameters for downloading the file \n",
    "        # Saving path\n",
    "        save_path = 'C:\\\\FINAL_PROJECT\\\\EBike_Files\\\\Data.db'\n",
    "        # File location in dropbox    \n",
    "        path = '/data.db'\n",
    "        #res = dbx.files_list_folder(path,None)\n",
    "        #print (res)\n",
    "        # try download\n",
    "        try:\n",
    "            dbx.files_download_to_file(save_path,path,None)   \n",
    "        except:\n",
    "                print('Database current is not exsit')\n",
    "                pass\n",
    "        else:\n",
    "            print(\"Successful Downloading database file from Dropbox, overwriting \" + save_path + \"...\")\n",
    "    \n",
    "    def bodyE4():\n",
    "        schedule.every(1).minutes.do(HR_Getting.E4)\n",
    "        while True:\n",
    "            schedule.run_pending()\n",
    "            \n",
    "if __name__ == \"__main__\":\n",
    "\n",
    "    EBikefile = EBikeData_Getting.bodyE4()\n",
    "    print ('here')\n"
   ]
  },
  {
   "cell_type": "code",
   "execution_count": null,
   "metadata": {},
   "outputs": [],
   "source": [
    "EBikedb = sqlite.connect( 'C:\\\\FINAL_PROJECT\\\\EBike_Files\\\\Data.db')\n",
    "cursor = conn.cursor()\n",
    "sql = \"\"\"pragma table_info(students)\"\"\"\n",
    "cursor.execute(sql)\n",
    "result = cursor.fetchall()\n",
    "print result\n",
    "print type(result)\n",
    "conn.close()\n"
   ]
  },
  {
   "cell_type": "code",
   "execution_count": null,
   "metadata": {},
   "outputs": [],
   "source": []
  }
 ],
 "metadata": {
  "kernelspec": {
   "display_name": "Python 3",
   "language": "python",
   "name": "python3"
  }
 },
 "nbformat": 4,
 "nbformat_minor": 2
}
